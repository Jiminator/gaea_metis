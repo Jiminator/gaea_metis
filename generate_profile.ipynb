{
 "cells": [
  {
   "cell_type": "code",
   "execution_count": 1,
   "metadata": {},
   "outputs": [],
   "source": [
    "import os\n",
    "import shutil\n",
    "\n",
    "# source dir\n",
    "source_file = './example_profile.json'\n",
    "\n",
    "# destination dir\n",
    "device_types = ['A100', 'V100']\n",
    "tp_values = ['tp1', 'tp2', 'tp3', 'tp4', 'tp8', 'tp16', 'tp32', 'tp64']\n",
    "bs_values = ['bs1', 'bs2', 'bs4', 'bs8', 'bs16']\n",
    "\n",
    "def create_file_structure():\n",
    "    for device in device_types:\n",
    "        for tp in tp_values:\n",
    "            for bs in bs_values:\n",
    "                # \n",
    "                target_file = f'./profile/DeviceType.{device}_{tp}_{bs}.json'\n",
    "                # \n",
    "                os.makedirs(os.path.dirname(target_file), exist_ok=True)\n",
    "                # \n",
    "                shutil.copy(source_file, target_file)"
   ]
  },
  {
   "cell_type": "code",
   "execution_count": 2,
   "metadata": {},
   "outputs": [],
   "source": [
    "create_file_structure()"
   ]
  }
 ],
 "metadata": {
  "kernelspec": {
   "display_name": "Metis",
   "language": "python",
   "name": "python3"
  },
  "language_info": {
   "codemirror_mode": {
    "name": "ipython",
    "version": 3
   },
   "file_extension": ".py",
   "mimetype": "text/x-python",
   "name": "python",
   "nbconvert_exporter": "python",
   "pygments_lexer": "ipython3",
   "version": "3.9.20"
  }
 },
 "nbformat": 4,
 "nbformat_minor": 2
}
